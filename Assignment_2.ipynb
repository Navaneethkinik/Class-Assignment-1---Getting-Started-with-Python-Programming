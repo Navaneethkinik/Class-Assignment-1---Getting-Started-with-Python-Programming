{
  "nbformat": 4,
  "nbformat_minor": 0,
  "metadata": {
    "colab": {
      "name": "Assignment 2.ipynb",
      "provenance": [],
      "authorship_tag": "ABX9TyPZC89eZsEhiCavtvJXCllq",
      "include_colab_link": true
    },
    "kernelspec": {
      "name": "python3",
      "display_name": "Python 3"
    }
  },
  "cells": [
    {
      "cell_type": "markdown",
      "metadata": {
        "id": "view-in-github",
        "colab_type": "text"
      },
      "source": [
        "<a href=\"https://colab.research.google.com/github/Navaneethkinik/Class-Assignment-1---Getting-Started-with-Python-Programming/blob/master/Assignment_2.ipynb\" target=\"_parent\"><img src=\"https://colab.research.google.com/assets/colab-badge.svg\" alt=\"Open In Colab\"/></a>"
      ]
    },
    {
      "cell_type": "code",
      "metadata": {
        "id": "3Is98NQhERBr",
        "colab_type": "code",
        "colab": {
          "base_uri": "https://localhost:8080/",
          "height": 85
        },
        "outputId": "2dba0516-2dbb-4636-f829-8ae2ccedbeb9"
      },
      "source": [
        "#Navaneeth Kini k\n",
        "#Roll no.:25\n",
        "#ME-B\n",
        " \n",
        "#code to find largest among three numbers.\n",
        "try:\n",
        "  a=float (input (\"Enter the first number: \"))\n",
        "  b=float (input(\"Enter the second number: \"))\n",
        "  c=float(input (\"Enter the third number: \"))\n",
        "  \n",
        "  if a>b:   \n",
        "    large=a \n",
        "  else:\n",
        "    large=b\n",
        "  if large<c:\n",
        "    large=c \n",
        "  print(\"The largest number:\",large)\n",
        "except:\n",
        "  print(\"Bad input!\")"
      ],
      "execution_count": 16,
      "outputs": [
        {
          "output_type": "stream",
          "text": [
            "Enter the first number: 57\n",
            "Enter the second number: 63\n",
            "Enter the third number: 72\n",
            "The largest number: 72.0\n"
          ],
          "name": "stdout"
        }
      ]
    }
  ]
}