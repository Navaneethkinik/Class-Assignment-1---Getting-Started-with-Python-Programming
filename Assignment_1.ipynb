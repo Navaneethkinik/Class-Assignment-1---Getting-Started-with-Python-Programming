{
  "nbformat": 4,
  "nbformat_minor": 0,
  "metadata": {
    "colab": {
      "name": "Assignment 1",
      "provenance": [],
      "authorship_tag": "ABX9TyPzqNckgAUDKXCETxAN1w5i",
      "include_colab_link": true
    },
    "kernelspec": {
      "name": "python3",
      "display_name": "Python 3"
    }
  },
  "cells": [
    {
      "cell_type": "markdown",
      "metadata": {
        "id": "view-in-github",
        "colab_type": "text"
      },
      "source": [
        "<a href=\"https://colab.research.google.com/github/Navaneethkinik/Class-Assignment-1---Getting-Started-with-Python-Programming/blob/master/Assignment_1.ipynb\" target=\"_parent\"><img src=\"https://colab.research.google.com/assets/colab-badge.svg\" alt=\"Open In Colab\"/></a>"
      ]
    },
    {
      "cell_type": "code",
      "metadata": {
        "id": "qhBTu8D5azZo",
        "colab_type": "code",
        "colab": {
          "base_uri": "https://localhost:8080/",
          "height": 68
        },
        "outputId": "35e93017-def7-4e26-d2dd-3f9b47c6af46"
      },
      "source": [
        "#question1\n",
        "print('Name : Navaneeth Kini k')\n",
        "print ('Adress : karattuvayal , kanhangad')\n",
        "print ('Telephone no. : 7306074202')"
      ],
      "execution_count": null,
      "outputs": [
        {
          "output_type": "stream",
          "text": [
            "Name : Navaneeth Kini k\n",
            "Adress : karattuvayal , kanhangad\n",
            "Telephone no. : 7306074202\n"
          ],
          "name": "stdout"
        }
      ]
    },
    {
      "cell_type": "code",
      "metadata": {
        "id": "f_NKasD2xAiu",
        "colab_type": "code",
        "colab": {}
      },
      "source": [
        ""
      ],
      "execution_count": null,
      "outputs": []
    },
    {
      "cell_type": "code",
      "metadata": {
        "id": "i8MqjGS6dnfY",
        "colab_type": "code",
        "colab": {
          "base_uri": "https://localhost:8080/",
          "height": 51
        },
        "outputId": "84215c52-264d-4257-ecb6-2679d5bd2c59"
      },
      "source": [
        " \n",
        "#question2\n",
        " \n",
        "name=input('Enter your name :')\n",
        "print('Your name is ',name)"
      ],
      "execution_count": null,
      "outputs": [
        {
          "output_type": "stream",
          "text": [
            "Enter your name :Navaneeth\n",
            "Your name is  Navaneeth\n"
          ],
          "name": "stdout"
        }
      ]
    },
    {
      "cell_type": "code",
      "metadata": {
        "id": "Hua-dhNGejFQ",
        "colab_type": "code",
        "colab": {
          "base_uri": "https://localhost:8080/",
          "height": 68
        },
        "outputId": "ceb4d225-7a01-4e29-a579-80d04cceed8c"
      },
      "source": [
        " \n",
        "#question3\n",
        " \n",
        "length=float (input('Enter the length of rectangle : '))\n",
        "breadth=float(input('Enter the breadth of rectangle : '))\n",
        "area=length*breadth\n",
        "print('Area of rectangle :',area)"
      ],
      "execution_count": null,
      "outputs": [
        {
          "output_type": "stream",
          "text": [
            "Enter the length of rectangle : 54\n",
            "Enter the breadth of rectangle : 77\n",
            "Area of rectangle : 4158.0\n"
          ],
          "name": "stdout"
        }
      ]
    },
    {
      "cell_type": "code",
      "metadata": {
        "id": "_Pw9RNVwfrz_",
        "colab_type": "code",
        "colab": {
          "base_uri": "https://localhost:8080/",
          "height": 68
        },
        "outputId": "bea26212-2151-4947-ed03-bded13f771f8"
      },
      "source": [
        " \n",
        "#question4\n",
        " \n",
        "base=float(input('Enter the height of triangle : '))\n",
        "height=float(input('Enter the base of triangle : '))\n",
        "area=.5*base*height\n",
        "print ('Area of triangle : ',area)"
      ],
      "execution_count": null,
      "outputs": [
        {
          "output_type": "stream",
          "text": [
            "Enter the height of triangle : 77\n",
            "Enter the base of triangle : 77\n",
            "Area of triangle :  2964.5\n"
          ],
          "name": "stdout"
        }
      ]
    },
    {
      "cell_type": "code",
      "metadata": {
        "id": "syhsfFDpgd0X",
        "colab_type": "code",
        "colab": {
          "base_uri": "https://localhost:8080/",
          "height": 51
        },
        "outputId": "d6c2b1e6-2e42-4b09-ab68-a149bfd18302"
      },
      "source": [
        " \n",
        "#question5\n",
        " \n",
        "radius=float(input ('Enter the radius : '))\n",
        "area=3.14*radius**2\n",
        "print ('Area of the circle : ',area)"
      ],
      "execution_count": null,
      "outputs": [
        {
          "output_type": "stream",
          "text": [
            "Enter the radius : 100\n",
            "Area of the circle :  31400.0\n"
          ],
          "name": "stdout"
        }
      ]
    },
    {
      "cell_type": "code",
      "metadata": {
        "id": "V1fEtZX3hItM",
        "colab_type": "code",
        "colab": {
          "base_uri": "https://localhost:8080/",
          "height": 68
        },
        "outputId": "03a7f1cd-98af-41db-bc09-a13beb3f5a64"
      },
      "source": [
        " \n",
        "#question6\n",
        " \n",
        "name=input('Enter your name : ')\n",
        "age=input('Enter your age : ')\n",
        "print('Name :',name ,'  Age :',age)"
      ],
      "execution_count": null,
      "outputs": [
        {
          "output_type": "stream",
          "text": [
            "Enter your name : Navaneeth\n",
            "Enter your age : 18\n",
            "Name : Navaneeth   Age : 18\n"
          ],
          "name": "stdout"
        }
      ]
    },
    {
      "cell_type": "code",
      "metadata": {
        "id": "UgCMEdxDhzxn",
        "colab_type": "code",
        "colab": {}
      },
      "source": [
        " \n",
        "#question7\n",
        " \n",
        "number=float(input('Enter a number :'))\n",
        " \n",
        "print ('one is added ')\n",
        "print (number+1)"
      ],
      "execution_count": null,
      "outputs": []
    },
    {
      "cell_type": "code",
      "metadata": {
        "id": "4uiF2fX-i0CH",
        "colab_type": "code",
        "colab": {
          "base_uri": "https://localhost:8080/",
          "height": 34
        },
        "outputId": "883a02a9-94e4-4211-ee07-b7537cbb2680"
      },
      "source": [
        "first_name=input('Enter your first name ')"
      ],
      "execution_count": null,
      "outputs": [
        {
          "output_type": "stream",
          "text": [
            "Enter your first name Navaneeth\n"
          ],
          "name": "stdout"
        }
      ]
    },
    {
      "cell_type": "markdown",
      "metadata": {
        "id": "mKDMuRs5mkYw",
        "colab_type": "text"
      },
      "source": [
        "All programs done by using colab\n",
        " \n",
        "Navaneeth Kini k\n",
        "ME-A\n",
        "Roll.no. :25"
      ]
    }
  ]
}