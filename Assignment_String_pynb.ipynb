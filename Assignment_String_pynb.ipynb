{
  "nbformat": 4,
  "nbformat_minor": 0,
  "metadata": {
    "colab": {
      "name": "Assignment String.pynb",
      "provenance": [],
      "collapsed_sections": [],
      "authorship_tag": "ABX9TyPhhrizclzG/8ULAcTr/HhO",
      "include_colab_link": true
    },
    "kernelspec": {
      "name": "python3",
      "display_name": "Python 3"
    }
  },
  "cells": [
    {
      "cell_type": "markdown",
      "metadata": {
        "id": "view-in-github",
        "colab_type": "text"
      },
      "source": [
        "<a href=\"https://colab.research.google.com/github/Navaneethkinik/Class-Assignment-1---Getting-Started-with-Python-Programming/blob/master/Assignment_String_pynb.ipynb\" target=\"_parent\"><img src=\"https://colab.research.google.com/assets/colab-badge.svg\" alt=\"Open In Colab\"/></a>"
      ]
    },
    {
      "cell_type": "markdown",
      "metadata": {
        "id": "4RkIvO58HcjD"
      },
      "source": [
        "ASSIGNMENT STRING"
      ]
    },
    {
      "cell_type": "markdown",
      "metadata": {
        "id": "iwluMuHyHSIO"
      },
      "source": [
        "              Assignment string"
      ]
    },
    {
      "cell_type": "code",
      "metadata": {
        "id": "Q1V0p6olHL00"
      },
      "source": [
        " def CountLetters (str, letter):\n",
        "  count=0\n",
        "  index=0\n",
        "  while index<len(str):\n",
        "    if letter==str[index]:\n",
        "      count=count+1\n",
        "      \n",
        "    index=index+1\n",
        "  return count"
      ],
      "execution_count": null,
      "outputs": []
    },
    {
      "cell_type": "code",
      "metadata": {
        "id": "qNKWdpNSGlAe",
        "outputId": "01d06e3c-b65e-4cb9-bddd-b9848c361d24",
        "colab": {
          "base_uri": "https://localhost:8080/",
          "height": 34
        }
      },
      "source": [
        "CountLetters (\"Apple\",\"p\")"
      ],
      "execution_count": null,
      "outputs": [
        {
          "output_type": "execute_result",
          "data": {
            "text/plain": [
              "2"
            ]
          },
          "metadata": {
            "tags": []
          },
          "execution_count": 52
        }
      ]
    },
    {
      "cell_type": "code",
      "metadata": {
        "id": "n9j96MJKed2B",
        "outputId": "85a5e946-0aaf-4487-f665-62420fd49a74",
        "colab": {
          "base_uri": "https://localhost:8080/",
          "height": 34
        }
      },
      "source": [
        "CountLetters (\"machine\",\"a\")"
      ],
      "execution_count": null,
      "outputs": [
        {
          "output_type": "execute_result",
          "data": {
            "text/plain": [
              "1"
            ]
          },
          "metadata": {
            "tags": []
          },
          "execution_count": 72
        }
      ]
    },
    {
      "cell_type": "code",
      "metadata": {
        "id": "PZ2ZaZFhelke",
        "outputId": "3d8b27b1-621f-418b-c5b9-cdcdea892d8d",
        "colab": {
          "base_uri": "https://localhost:8080/",
          "height": 34
        }
      },
      "source": [
        "CountLetters (\"Malayalam\",\"a\")"
      ],
      "execution_count": null,
      "outputs": [
        {
          "output_type": "execute_result",
          "data": {
            "text/plain": [
              "4"
            ]
          },
          "metadata": {
            "tags": []
          },
          "execution_count": 73
        }
      ]
    },
    {
      "cell_type": "code",
      "metadata": {
        "id": "SFpdnZcxe1zh",
        "outputId": "878080fe-85e2-4987-c0a3-ea5d7d820719",
        "colab": {
          "base_uri": "https://localhost:8080/",
          "height": 34
        }
      },
      "source": [
        "CountLetters (\"India\",\"I\")"
      ],
      "execution_count": null,
      "outputs": [
        {
          "output_type": "execute_result",
          "data": {
            "text/plain": [
              "1"
            ]
          },
          "metadata": {
            "tags": []
          },
          "execution_count": 74
        }
      ]
    },
    {
      "cell_type": "markdown",
      "metadata": {
        "id": "LvmlJ5J6w1GB"
      },
      "source": [
        "Modified function :which looks where from start counting."
      ]
    },
    {
      "cell_type": "code",
      "metadata": {
        "id": "GP1XRmlfFDVS"
      },
      "source": [
        " def CountLetters2(str, letter, index):\n",
        "  count=0\n",
        "  \n",
        "  while index<len(str):\n",
        "    if letter==str[index]:\n",
        "      count=count+1\n",
        "      \n",
        "    index=index+1\n",
        "  return count"
      ],
      "execution_count": null,
      "outputs": []
    },
    {
      "cell_type": "code",
      "metadata": {
        "id": "ACGLvcNFF2Ta",
        "outputId": "ef44632e-ce2c-462c-8cd7-9186959991b6",
        "colab": {
          "base_uri": "https://localhost:8080/",
          "height": 34
        }
      },
      "source": [
        "CountLetters2 (\"apple\",\"p\",3)"
      ],
      "execution_count": null,
      "outputs": [
        {
          "output_type": "execute_result",
          "data": {
            "text/plain": [
              "0"
            ]
          },
          "metadata": {
            "tags": []
          },
          "execution_count": 71
        }
      ]
    },
    {
      "cell_type": "code",
      "metadata": {
        "id": "wNBjLamBfErd",
        "outputId": "3c5212c7-6340-45ef-af43-528333b551ef",
        "colab": {
          "base_uri": "https://localhost:8080/",
          "height": 34
        }
      },
      "source": [
        "CountLetters2 (\"Apple\",\"p\",1)"
      ],
      "execution_count": null,
      "outputs": [
        {
          "output_type": "execute_result",
          "data": {
            "text/plain": [
              "2"
            ]
          },
          "metadata": {
            "tags": []
          },
          "execution_count": 75
        }
      ]
    },
    {
      "cell_type": "code",
      "metadata": {
        "id": "ACXiUMjXfRTk",
        "outputId": "c20e2d72-8453-4732-99e7-9e14416a030f",
        "colab": {
          "base_uri": "https://localhost:8080/",
          "height": 34
        }
      },
      "source": [
        "CountLetters2 (\"Malayalam\",\"a\",3)"
      ],
      "execution_count": null,
      "outputs": [
        {
          "output_type": "execute_result",
          "data": {
            "text/plain": [
              "3"
            ]
          },
          "metadata": {
            "tags": []
          },
          "execution_count": 76
        }
      ]
    },
    {
      "cell_type": "code",
      "metadata": {
        "id": "Y09SQ68ifbKe",
        "outputId": "3ce9af3c-1ecf-4bc5-fdc7-9e5d4e8fc5ec",
        "colab": {
          "base_uri": "https://localhost:8080/",
          "height": 34
        }
      },
      "source": [
        "CountLetters2 (\"Malayalam\",\"a\",5)"
      ],
      "execution_count": null,
      "outputs": [
        {
          "output_type": "execute_result",
          "data": {
            "text/plain": [
              "2"
            ]
          },
          "metadata": {
            "tags": []
          },
          "execution_count": 77
        }
      ]
    },
    {
      "cell_type": "code",
      "metadata": {
        "id": "eEjheVSIhQN3"
      },
      "source": [
        " def find(str, ch,index):\n",
        "  #\n",
        "  while index < len(str):\n",
        "    if str[index] == ch:\n",
        "      return index\n",
        "    index = index + 1\n",
        "  return -1"
      ],
      "execution_count": null,
      "outputs": []
    }
  ]
}